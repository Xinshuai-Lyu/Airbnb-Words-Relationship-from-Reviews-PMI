{
 "cells": [
  {
   "cell_type": "markdown",
   "metadata": {},
   "source": [
    "# CMT 309 Data Science Portfolio\n",
    "# Parts 1 and 2\n",
    "\n",
    "---"
   ]
  },
  {
   "cell_type": "markdown",
   "metadata": {
    "id": "3Pe7XhS9wEVw"
   },
   "source": [
    "# Part 1 - Pre-processing and exploratory analysis\n",
    "\n",
    "Instructions:\n",
    "\n",
    "- Answer the questions by filling in the appropriate sections of this file. \n",
    "- Do not remove or rename section headings or any code that has been provided, unless instructed otherwise.\n",
    "- You can add as many additional cells with code as you like.\n",
    "\n",
    "Before submitting,\n",
    "\n",
    "- Ensure that the code is clean, readable, and well documented. \n",
    "- Restart the kernel (to wipe all variables) and then run the code from top to bottom to produce all intermediate outputs. "
   ]
  },
  {
   "cell_type": "code",
   "execution_count": 1,
   "metadata": {
    "colab": {
     "base_uri": "https://localhost:8080/"
    },
    "id": "acSREWbeG0mm",
    "outputId": "beeccebf-cce6-4ff7-bb6c-45988b8748f5"
   },
   "outputs": [],
   "source": [
    "\n",
    "\n",
    "import scipy, os\n",
    "import pandas as pd\n",
    "import numpy as np\n",
    "import seaborn as sns\n",
    "import matplotlib.pyplot as plt\n",
    "import statsmodels.api as sm\n",
    "\n",
    "# add more imports here if you like\n",
    "# ...\n",
    "from datetime import datetime\n",
    "import re"
   ]
  },
  {
   "cell_type": "code",
   "execution_count": 3,
   "metadata": {
    "colab": {
     "base_uri": "https://localhost:8080/"
    },
    "id": "A6CTk1ZiFVIk",
    "outputId": "289693f3-8883-4104-f861-7b2a5c219e8a"
   },
   "outputs": [],
   "source": [
    "# if you use Google Colab:\n",
    "# from google.colab import drive\n",
    "# drive.mount('/content/drive')"
   ]
  },
  {
   "cell_type": "code",
   "execution_count": 2,
   "metadata": {
    "id": "ycIjzElBzG2x"
   },
   "outputs": [],
   "source": [
    "# change this line your folder where the data is found\n",
    "basedir = './'"
   ]
  },
  {
   "cell_type": "markdown",
   "metadata": {
    "id": "vwuEFzzUKzJW"
   },
   "source": [
    "In this part you will be working with the  `listings.csv` data. To help you wrap around your head we will first provide some information on the main columns in the data.\n",
    "\n",
    "***Dataframe columns description***:\n",
    "\n",
    "- `id` - unique ID identifying the listing\n",
    "\n",
    "- `name` - title of the listing\n",
    "\n",
    "- `host_id` - unique ID for a host\n",
    "\n",
    "- `host_name` - first name of the host\n",
    "\n",
    "- `host_since` - date that the host first joined Airbnb\n",
    "\n",
    "- `host_is_superhost` - whether or not the host is a superhost, which is a mark of quality for the top-rated and most experienced hosts, and can increase your search ranking on Airbnb\n",
    "\n",
    "- `host_listings_count` - how many listings the host has in total\n",
    "\n",
    "- `host_has_profile_pic` - whether or not the host has a profile picture\n",
    "\n",
    "- `host_identity_verified` - whether or not the host has been verified with his passport\n",
    "\n",
    "- `neighbourhood_cleansed` - the borough the property is in\n",
    "\n",
    "- `latitude` and `longitude` - geolocation coordinates of the property\n",
    "\n",
    "- `property_type` - type of property, e.g. house or flat\n",
    "\n",
    "- `room_type` - type of listing, e.g. entire home, private room or shared room\n",
    "\n",
    "- `accommodates` - how many people the property accommodates\n",
    "\n",
    "- `bedrooms` - number of bedrooms\n",
    "\n",
    "- `beds` - number of beds\n",
    "\n",
    "- `price` - nightly advertised price (the target variable)\n",
    "\n",
    "- `minimum_nights` - the minimum length of stay\n",
    "\n",
    "- `maximum_nights` - the maximum length of stay\n",
    "\n",
    "- `availability_30` - how many nights are available to be booked in the next 30 days\n",
    "\n",
    "- `availability_60` - how many nights are available to be booked in the next 60 days\n",
    "\n",
    "- `availability_90` - how many nights are available to be booked in the next 90 days\n",
    "\n",
    "- `availability_365` - how many nights are available to be booked in the next 365 days\n",
    "\n",
    "- `number_of_reviews` - the number of reviews left for the property\n",
    "\n",
    "- `number_of_reviews_ltm` - the number of reviews left for the property in the last twelve months\n",
    "\n",
    "- `first_review` - the date of the first review\n",
    "\n",
    "- `last_review` - the date of the most recent review\n",
    "\n",
    "- `review_scores_rating` - guests can score properties overall from 1 to 5 stars\n",
    "\n",
    "- `review_scores_accuracy` - guests can score the accuracy of a property's description from 1 to 5 stars\n",
    "\n",
    "- `review_scores_cleanliness` - guests can score a property's cleanliness from 1 to 5 stars\n",
    "\n",
    "- `review_scores_checkin` - guests can score their check-in from 1 to 5 stars\n",
    "\n",
    "- `review_scores_communication` - guests can score a host's communication from 1 to 5 stars\n",
    "\n",
    "- `review_scores_location` - guests can score a property's location from 1 to 5 stars\n",
    "\n",
    "- `review_scores_value` - guests can score a booking's value for money from 1 to 5 stars\n",
    "\n",
    "- `instant_bookable` - whether or not the property can be instant booked (i.e. booked straight away, without having to message the host first and wait to be accepted)\n",
    "\n",
    "- `reviews_per_month` - calculated field of the average number of reviews left by guest each month\n",
    "\n",
    "\n",
    "The next two cells load the `listings.csv` file into a dataframe. Once loaded, start working on the subsequent questions."
   ]
  },
  {
   "cell_type": "code",
   "execution_count": 3,
   "metadata": {
    "id": "K4zobPQJzKAX"
   },
   "outputs": [],
   "source": [
    "### DO NOT CHANGE THIS CELL\n",
    "def load_csv(basedir):\n",
    "    return pd.read_csv(os.path.join(basedir, 'listings.csv'))"
   ]
  },
  {
   "cell_type": "code",
   "execution_count": 4,
   "metadata": {
    "colab": {
     "base_uri": "https://localhost:8080/",
     "height": 581
    },
    "id": "73pNEQSv5_WZ",
    "outputId": "8f8c9c0b-f9eb-466e-e047-9e7e4d40dbbe"
   },
   "outputs": [
    {
     "data": {
      "text/html": [
       "<div>\n",
       "<style scoped>\n",
       "    .dataframe tbody tr th:only-of-type {\n",
       "        vertical-align: middle;\n",
       "    }\n",
       "\n",
       "    .dataframe tbody tr th {\n",
       "        vertical-align: top;\n",
       "    }\n",
       "\n",
       "    .dataframe thead th {\n",
       "        text-align: right;\n",
       "    }\n",
       "</style>\n",
       "<table border=\"1\" class=\"dataframe\">\n",
       "  <thead>\n",
       "    <tr style=\"text-align: right;\">\n",
       "      <th></th>\n",
       "      <th>id</th>\n",
       "      <th>listing_url</th>\n",
       "      <th>scrape_id</th>\n",
       "      <th>last_scraped</th>\n",
       "      <th>name</th>\n",
       "      <th>description</th>\n",
       "      <th>neighborhood_overview</th>\n",
       "      <th>picture_url</th>\n",
       "      <th>host_id</th>\n",
       "      <th>host_url</th>\n",
       "      <th>...</th>\n",
       "      <th>review_scores_communication</th>\n",
       "      <th>review_scores_location</th>\n",
       "      <th>review_scores_value</th>\n",
       "      <th>license</th>\n",
       "      <th>instant_bookable</th>\n",
       "      <th>calculated_host_listings_count</th>\n",
       "      <th>calculated_host_listings_count_entire_homes</th>\n",
       "      <th>calculated_host_listings_count_private_rooms</th>\n",
       "      <th>calculated_host_listings_count_shared_rooms</th>\n",
       "      <th>reviews_per_month</th>\n",
       "    </tr>\n",
       "  </thead>\n",
       "  <tbody>\n",
       "    <tr>\n",
       "      <th>0</th>\n",
       "      <td>2818</td>\n",
       "      <td>https://www.airbnb.com/rooms/2818</td>\n",
       "      <td>20201212211823</td>\n",
       "      <td>2020-12-13</td>\n",
       "      <td>Quiet Garden View Room &amp; Super Fast WiFi</td>\n",
       "      <td>Quiet Garden View Room &amp; Super Fast WiFi&lt;br /&gt;...</td>\n",
       "      <td>Indische Buurt (\"Indies Neighborhood\") is a ne...</td>\n",
       "      <td>https://a0.muscache.com/pictures/10272854/8dcc...</td>\n",
       "      <td>3159</td>\n",
       "      <td>https://www.airbnb.com/users/show/3159</td>\n",
       "      <td>...</td>\n",
       "      <td>10.0</td>\n",
       "      <td>9.0</td>\n",
       "      <td>10.0</td>\n",
       "      <td>NaN</td>\n",
       "      <td>t</td>\n",
       "      <td>1</td>\n",
       "      <td>0</td>\n",
       "      <td>1</td>\n",
       "      <td>0</td>\n",
       "      <td>1.95</td>\n",
       "    </tr>\n",
       "    <tr>\n",
       "      <th>1</th>\n",
       "      <td>20168</td>\n",
       "      <td>https://www.airbnb.com/rooms/20168</td>\n",
       "      <td>20201212211823</td>\n",
       "      <td>2020-12-13</td>\n",
       "      <td>Studio with private bathroom in the centre 1</td>\n",
       "      <td>17th century Dutch townhouse in the heart of t...</td>\n",
       "      <td>Located just in between famous central canals....</td>\n",
       "      <td>https://a0.muscache.com/pictures/69979628/fd6a...</td>\n",
       "      <td>59484</td>\n",
       "      <td>https://www.airbnb.com/users/show/59484</td>\n",
       "      <td>...</td>\n",
       "      <td>10.0</td>\n",
       "      <td>10.0</td>\n",
       "      <td>9.0</td>\n",
       "      <td>NaN</td>\n",
       "      <td>t</td>\n",
       "      <td>2</td>\n",
       "      <td>0</td>\n",
       "      <td>2</td>\n",
       "      <td>0</td>\n",
       "      <td>2.58</td>\n",
       "    </tr>\n",
       "    <tr>\n",
       "      <th>2</th>\n",
       "      <td>25428</td>\n",
       "      <td>https://www.airbnb.com/rooms/25428</td>\n",
       "      <td>20201212211823</td>\n",
       "      <td>2020-12-13</td>\n",
       "      <td>Lovely apt in City Centre (w.lift) near Jordaan</td>\n",
       "      <td>Lovely apt in Centre ( lift &amp; fireplace) near ...</td>\n",
       "      <td>NaN</td>\n",
       "      <td>https://a0.muscache.com/pictures/138431/7079a9...</td>\n",
       "      <td>56142</td>\n",
       "      <td>https://www.airbnb.com/users/show/56142</td>\n",
       "      <td>...</td>\n",
       "      <td>10.0</td>\n",
       "      <td>10.0</td>\n",
       "      <td>10.0</td>\n",
       "      <td>NaN</td>\n",
       "      <td>f</td>\n",
       "      <td>1</td>\n",
       "      <td>1</td>\n",
       "      <td>0</td>\n",
       "      <td>0</td>\n",
       "      <td>0.14</td>\n",
       "    </tr>\n",
       "    <tr>\n",
       "      <th>3</th>\n",
       "      <td>27886</td>\n",
       "      <td>https://www.airbnb.com/rooms/27886</td>\n",
       "      <td>20201212211823</td>\n",
       "      <td>2020-12-13</td>\n",
       "      <td>Romantic, stylish B&amp;B houseboat in canal district</td>\n",
       "      <td>Stylish and romantic houseboat on fantastic hi...</td>\n",
       "      <td>Central, quiet, safe, clean and beautiful.</td>\n",
       "      <td>https://a0.muscache.com/pictures/02c2da9d-660e...</td>\n",
       "      <td>97647</td>\n",
       "      <td>https://www.airbnb.com/users/show/97647</td>\n",
       "      <td>...</td>\n",
       "      <td>10.0</td>\n",
       "      <td>10.0</td>\n",
       "      <td>10.0</td>\n",
       "      <td>NaN</td>\n",
       "      <td>t</td>\n",
       "      <td>1</td>\n",
       "      <td>0</td>\n",
       "      <td>1</td>\n",
       "      <td>0</td>\n",
       "      <td>2.01</td>\n",
       "    </tr>\n",
       "    <tr>\n",
       "      <th>4</th>\n",
       "      <td>28871</td>\n",
       "      <td>https://www.airbnb.com/rooms/28871</td>\n",
       "      <td>20201212211823</td>\n",
       "      <td>2020-12-13</td>\n",
       "      <td>Comfortable double room</td>\n",
       "      <td>&lt;b&gt;The space&lt;/b&gt;&lt;br /&gt;In a monumental house ri...</td>\n",
       "      <td>Flower market , Leidseplein , Rembrantsplein</td>\n",
       "      <td>https://a0.muscache.com/pictures/160889/362340...</td>\n",
       "      <td>124245</td>\n",
       "      <td>https://www.airbnb.com/users/show/124245</td>\n",
       "      <td>...</td>\n",
       "      <td>10.0</td>\n",
       "      <td>10.0</td>\n",
       "      <td>10.0</td>\n",
       "      <td>NaN</td>\n",
       "      <td>f</td>\n",
       "      <td>2</td>\n",
       "      <td>0</td>\n",
       "      <td>2</td>\n",
       "      <td>0</td>\n",
       "      <td>2.68</td>\n",
       "    </tr>\n",
       "  </tbody>\n",
       "</table>\n",
       "<p>5 rows × 74 columns</p>\n",
       "</div>"
      ],
      "text/plain": [
       "      id                         listing_url       scrape_id last_scraped  \\\n",
       "0   2818   https://www.airbnb.com/rooms/2818  20201212211823   2020-12-13   \n",
       "1  20168  https://www.airbnb.com/rooms/20168  20201212211823   2020-12-13   \n",
       "2  25428  https://www.airbnb.com/rooms/25428  20201212211823   2020-12-13   \n",
       "3  27886  https://www.airbnb.com/rooms/27886  20201212211823   2020-12-13   \n",
       "4  28871  https://www.airbnb.com/rooms/28871  20201212211823   2020-12-13   \n",
       "\n",
       "                                                name  \\\n",
       "0           Quiet Garden View Room & Super Fast WiFi   \n",
       "1       Studio with private bathroom in the centre 1   \n",
       "2    Lovely apt in City Centre (w.lift) near Jordaan   \n",
       "3  Romantic, stylish B&B houseboat in canal district   \n",
       "4                            Comfortable double room   \n",
       "\n",
       "                                         description  \\\n",
       "0  Quiet Garden View Room & Super Fast WiFi<br />...   \n",
       "1  17th century Dutch townhouse in the heart of t...   \n",
       "2  Lovely apt in Centre ( lift & fireplace) near ...   \n",
       "3  Stylish and romantic houseboat on fantastic hi...   \n",
       "4  <b>The space</b><br />In a monumental house ri...   \n",
       "\n",
       "                               neighborhood_overview  \\\n",
       "0  Indische Buurt (\"Indies Neighborhood\") is a ne...   \n",
       "1  Located just in between famous central canals....   \n",
       "2                                                NaN   \n",
       "3         Central, quiet, safe, clean and beautiful.   \n",
       "4       Flower market , Leidseplein , Rembrantsplein   \n",
       "\n",
       "                                         picture_url  host_id  \\\n",
       "0  https://a0.muscache.com/pictures/10272854/8dcc...     3159   \n",
       "1  https://a0.muscache.com/pictures/69979628/fd6a...    59484   \n",
       "2  https://a0.muscache.com/pictures/138431/7079a9...    56142   \n",
       "3  https://a0.muscache.com/pictures/02c2da9d-660e...    97647   \n",
       "4  https://a0.muscache.com/pictures/160889/362340...   124245   \n",
       "\n",
       "                                   host_url  ... review_scores_communication  \\\n",
       "0    https://www.airbnb.com/users/show/3159  ...                        10.0   \n",
       "1   https://www.airbnb.com/users/show/59484  ...                        10.0   \n",
       "2   https://www.airbnb.com/users/show/56142  ...                        10.0   \n",
       "3   https://www.airbnb.com/users/show/97647  ...                        10.0   \n",
       "4  https://www.airbnb.com/users/show/124245  ...                        10.0   \n",
       "\n",
       "  review_scores_location review_scores_value license instant_bookable  \\\n",
       "0                    9.0                10.0     NaN                t   \n",
       "1                   10.0                 9.0     NaN                t   \n",
       "2                   10.0                10.0     NaN                f   \n",
       "3                   10.0                10.0     NaN                t   \n",
       "4                   10.0                10.0     NaN                f   \n",
       "\n",
       "  calculated_host_listings_count calculated_host_listings_count_entire_homes  \\\n",
       "0                              1                                           0   \n",
       "1                              2                                           0   \n",
       "2                              1                                           1   \n",
       "3                              1                                           0   \n",
       "4                              2                                           0   \n",
       "\n",
       "  calculated_host_listings_count_private_rooms  \\\n",
       "0                                            1   \n",
       "1                                            2   \n",
       "2                                            0   \n",
       "3                                            1   \n",
       "4                                            2   \n",
       "\n",
       "  calculated_host_listings_count_shared_rooms reviews_per_month  \n",
       "0                                           0              1.95  \n",
       "1                                           0              2.58  \n",
       "2                                           0              0.14  \n",
       "3                                           0              2.01  \n",
       "4                                           0              2.68  \n",
       "\n",
       "[5 rows x 74 columns]"
      ]
     },
     "execution_count": 4,
     "metadata": {},
     "output_type": "execute_result"
    }
   ],
   "source": [
    "### DO NOT CHANGE THIS CELL\n",
    "df = load_csv(basedir)\n",
    "df.head()"
   ]
  },
  {
   "cell_type": "markdown",
   "metadata": {
    "id": "Pzc714QhKf3g"
   },
   "source": [
    "## Question 1a"
   ]
  },
  {
   "cell_type": "code",
   "execution_count": 5,
   "metadata": {
    "id": "8m6wSWKPJPLR"
   },
   "outputs": [],
   "source": [
    "# Do not rename the function, do not remove the return statement.\n",
    "# Just add code before the return statement to add the required functionality.\n",
    "def drop_cols(df):\n",
    "    \"\"\"Drop unnecessary columns\n",
    "    :type df: dataframe\n",
    "    :rtype: dataframe\n",
    "    \"\"\"\n",
    "    columns_need_to_be_dropped = ['scrape_id','last_scraped','description','listing_url','neighbourhood',\n",
    "                       'calendar_last_scraped', 'amenities','neighborhood_overview', 'picture_url',\n",
    "                       'host_url', 'host_about', 'host_location','host_total_listings_count','host_thumbnail_url',\n",
    "                       'host_picture_url', 'host_verifications','bathrooms_text','has_availability',\n",
    "                       'minimum_minimum_nights','maximum_minimum_nights','minimum_maximum_nights',\n",
    "                       'maximum_maximum_nights','minimum_nights_avg_ntm', 'maximum_nights_avg_ntm',\n",
    "                       'number_of_reviews_l30d','calculated_host_listings_count','calculated_host_listings_count_entire_homes',\n",
    "                       'calculated_host_listings_count_private_rooms','calculated_host_listings_count_shared_rooms']\n",
    "    df = df.drop(columns=columns_need_to_be_dropped)\n",
    "    return df"
   ]
  },
  {
   "cell_type": "code",
   "execution_count": 6,
   "metadata": {
    "colab": {
     "base_uri": "https://localhost:8080/"
    },
    "id": "GpBDncpjFrDh",
    "outputId": "569c0e41-7392-43b4-a9ec-06aa9374b7a8"
   },
   "outputs": [
    {
     "data": {
      "text/plain": [
       "Index(['id', 'name', 'host_id', 'host_name', 'host_since',\n",
       "       'host_response_time', 'host_response_rate', 'host_acceptance_rate',\n",
       "       'host_is_superhost', 'host_neighbourhood', 'host_listings_count',\n",
       "       'host_has_profile_pic', 'host_identity_verified',\n",
       "       'neighbourhood_cleansed', 'neighbourhood_group_cleansed', 'latitude',\n",
       "       'longitude', 'property_type', 'room_type', 'accommodates', 'bathrooms',\n",
       "       'bedrooms', 'beds', 'price', 'minimum_nights', 'maximum_nights',\n",
       "       'calendar_updated', 'availability_30', 'availability_60',\n",
       "       'availability_90', 'availability_365', 'number_of_reviews',\n",
       "       'number_of_reviews_ltm', 'first_review', 'last_review',\n",
       "       'review_scores_rating', 'review_scores_accuracy',\n",
       "       'review_scores_cleanliness', 'review_scores_checkin',\n",
       "       'review_scores_communication', 'review_scores_location',\n",
       "       'review_scores_value', 'license', 'instant_bookable',\n",
       "       'reviews_per_month'],\n",
       "      dtype='object')"
      ]
     },
     "execution_count": 6,
     "metadata": {},
     "output_type": "execute_result"
    }
   ],
   "source": [
    "df = drop_cols(df)\n",
    "df.columns"
   ]
  },
  {
   "cell_type": "code",
   "execution_count": 7,
   "metadata": {},
   "outputs": [],
   "source": [
    "columns = df.columns"
   ]
  },
  {
   "cell_type": "code",
   "execution_count": 8,
   "metadata": {
    "id": "JgsX31bPJLfc"
   },
   "outputs": [],
   "source": [
    "def drop_cols_na(df, threshold=0.5):\n",
    "    \"\"\"Drop columns according to the amount of NaN values they contain\n",
    "    :type df: dataframe\n",
    "    :type threshold: float\n",
    "    :rtype: dataframe\n",
    "    \"\"\"\n",
    "    columns_need_to_be_deleted = []\n",
    "    total_number = len(df)\n",
    "    for column in columns:\n",
    "        number_of_missing = np.sum(pd.isna(df[column]))\n",
    "        if (number_of_missing / total_number) >= threshold:\n",
    "            columns_need_to_be_deleted.append(column)\n",
    "    df = df.drop(columns=columns_need_to_be_deleted)\n",
    "    return df"
   ]
  },
  {
   "cell_type": "code",
   "execution_count": 9,
   "metadata": {
    "id": "y0DPwLXwSDGy"
   },
   "outputs": [],
   "source": [
    "df = drop_cols_na(df)"
   ]
  },
  {
   "cell_type": "code",
   "execution_count": 10,
   "metadata": {},
   "outputs": [
    {
     "data": {
      "text/plain": [
       "Index(['id', 'name', 'host_id', 'host_name', 'host_since',\n",
       "       'host_acceptance_rate', 'host_is_superhost', 'host_neighbourhood',\n",
       "       'host_listings_count', 'host_has_profile_pic', 'host_identity_verified',\n",
       "       'neighbourhood_cleansed', 'latitude', 'longitude', 'property_type',\n",
       "       'room_type', 'accommodates', 'bedrooms', 'beds', 'price',\n",
       "       'minimum_nights', 'maximum_nights', 'availability_30',\n",
       "       'availability_60', 'availability_90', 'availability_365',\n",
       "       'number_of_reviews', 'number_of_reviews_ltm', 'first_review',\n",
       "       'last_review', 'review_scores_rating', 'review_scores_accuracy',\n",
       "       'review_scores_cleanliness', 'review_scores_checkin',\n",
       "       'review_scores_communication', 'review_scores_location',\n",
       "       'review_scores_value', 'instant_bookable', 'reviews_per_month'],\n",
       "      dtype='object')"
      ]
     },
     "execution_count": 10,
     "metadata": {},
     "output_type": "execute_result"
    }
   ],
   "source": [
    "df.columns"
   ]
  },
  {
   "cell_type": "code",
   "execution_count": 11,
   "metadata": {},
   "outputs": [],
   "source": [
    "new_columns = df.columns"
   ]
  },
  {
   "cell_type": "code",
   "execution_count": 12,
   "metadata": {},
   "outputs": [
    {
     "name": "stdout",
     "output_type": "stream",
     "text": [
      "host_response_time has too many missing values and has been dropped from the listings\n",
      "host_response_rate has too many missing values and has been dropped from the listings\n",
      "neighbourhood_group_cleansed has too many missing values and has been dropped from the listings\n",
      "bathrooms has too many missing values and has been dropped from the listings\n",
      "calendar_updated has too many missing values and has been dropped from the listings\n",
      "license has too many missing values and has been dropped from the listings\n"
     ]
    }
   ],
   "source": [
    "for column in columns:\n",
    "    if column not in new_columns:\n",
    "        print(f\"{column} has too many missing values and has been dropped from the listings\")"
   ]
  },
  {
   "cell_type": "markdown",
   "metadata": {
    "id": "y6SMYnVDKt1d"
   },
   "source": [
    "## Question 1b"
   ]
  },
  {
   "cell_type": "code",
   "execution_count": 13,
   "metadata": {
    "id": "lcw2iovWK-EN"
   },
   "outputs": [],
   "source": [
    "def binary_encoding(df):\n",
    "    \"\"\"Transform binary string t and f to int 1 and 0\n",
    "    :type df: dataframe\n",
    "    :rtype: dataframe\n",
    "    \"\"\"\n",
    "    for column in new_columns:\n",
    "        column_with_binary_t_and_f = True\n",
    "        for value in df[column].unique():\n",
    "            if value not in [\"t\", \"f\", np.nan]:\n",
    "                column_with_binary_t_and_f = False\n",
    "                break\n",
    "        if column_with_binary_t_and_f:\n",
    "            int_form_binary = []\n",
    "            for value in df[column]:\n",
    "                if value == \"t\": int_form_binary.append(1)\n",
    "                elif value == \"f\": int_form_binary.append(0)\n",
    "                else: int_form_binary.append(np.nan)\n",
    "            df[column] = int_form_binary\n",
    "    return df"
   ]
  },
  {
   "cell_type": "code",
   "execution_count": 14,
   "metadata": {
    "id": "aZ7BoRBhlbYV"
   },
   "outputs": [],
   "source": [
    "df = binary_encoding(df)"
   ]
  },
  {
   "cell_type": "code",
   "execution_count": 15,
   "metadata": {},
   "outputs": [
    {
     "data": {
      "text/html": [
       "<div>\n",
       "<style scoped>\n",
       "    .dataframe tbody tr th:only-of-type {\n",
       "        vertical-align: middle;\n",
       "    }\n",
       "\n",
       "    .dataframe tbody tr th {\n",
       "        vertical-align: top;\n",
       "    }\n",
       "\n",
       "    .dataframe thead th {\n",
       "        text-align: right;\n",
       "    }\n",
       "</style>\n",
       "<table border=\"1\" class=\"dataframe\">\n",
       "  <thead>\n",
       "    <tr style=\"text-align: right;\">\n",
       "      <th></th>\n",
       "      <th>id</th>\n",
       "      <th>name</th>\n",
       "      <th>host_id</th>\n",
       "      <th>host_name</th>\n",
       "      <th>host_since</th>\n",
       "      <th>host_acceptance_rate</th>\n",
       "      <th>host_is_superhost</th>\n",
       "      <th>host_neighbourhood</th>\n",
       "      <th>host_listings_count</th>\n",
       "      <th>host_has_profile_pic</th>\n",
       "      <th>...</th>\n",
       "      <th>last_review</th>\n",
       "      <th>review_scores_rating</th>\n",
       "      <th>review_scores_accuracy</th>\n",
       "      <th>review_scores_cleanliness</th>\n",
       "      <th>review_scores_checkin</th>\n",
       "      <th>review_scores_communication</th>\n",
       "      <th>review_scores_location</th>\n",
       "      <th>review_scores_value</th>\n",
       "      <th>instant_bookable</th>\n",
       "      <th>reviews_per_month</th>\n",
       "    </tr>\n",
       "  </thead>\n",
       "  <tbody>\n",
       "    <tr>\n",
       "      <th>0</th>\n",
       "      <td>2818</td>\n",
       "      <td>Quiet Garden View Room &amp; Super Fast WiFi</td>\n",
       "      <td>3159</td>\n",
       "      <td>Daniel</td>\n",
       "      <td>2008-09-24</td>\n",
       "      <td>100%</td>\n",
       "      <td>1.0</td>\n",
       "      <td>Indische Buurt</td>\n",
       "      <td>1.0</td>\n",
       "      <td>1.0</td>\n",
       "      <td>...</td>\n",
       "      <td>2020-02-14</td>\n",
       "      <td>98.0</td>\n",
       "      <td>10.0</td>\n",
       "      <td>10.0</td>\n",
       "      <td>10.0</td>\n",
       "      <td>10.0</td>\n",
       "      <td>9.0</td>\n",
       "      <td>10.0</td>\n",
       "      <td>1</td>\n",
       "      <td>1.95</td>\n",
       "    </tr>\n",
       "    <tr>\n",
       "      <th>1</th>\n",
       "      <td>20168</td>\n",
       "      <td>Studio with private bathroom in the centre 1</td>\n",
       "      <td>59484</td>\n",
       "      <td>Alexander</td>\n",
       "      <td>2009-12-02</td>\n",
       "      <td>100%</td>\n",
       "      <td>0.0</td>\n",
       "      <td>Grachtengordel</td>\n",
       "      <td>2.0</td>\n",
       "      <td>1.0</td>\n",
       "      <td>...</td>\n",
       "      <td>2020-04-09</td>\n",
       "      <td>89.0</td>\n",
       "      <td>10.0</td>\n",
       "      <td>10.0</td>\n",
       "      <td>10.0</td>\n",
       "      <td>10.0</td>\n",
       "      <td>10.0</td>\n",
       "      <td>9.0</td>\n",
       "      <td>1</td>\n",
       "      <td>2.58</td>\n",
       "    </tr>\n",
       "    <tr>\n",
       "      <th>2</th>\n",
       "      <td>25428</td>\n",
       "      <td>Lovely apt in City Centre (w.lift) near Jordaan</td>\n",
       "      <td>56142</td>\n",
       "      <td>Joan</td>\n",
       "      <td>2009-11-20</td>\n",
       "      <td>57%</td>\n",
       "      <td>1.0</td>\n",
       "      <td>Grachtengordel</td>\n",
       "      <td>2.0</td>\n",
       "      <td>1.0</td>\n",
       "      <td>...</td>\n",
       "      <td>2020-02-09</td>\n",
       "      <td>100.0</td>\n",
       "      <td>10.0</td>\n",
       "      <td>10.0</td>\n",
       "      <td>10.0</td>\n",
       "      <td>10.0</td>\n",
       "      <td>10.0</td>\n",
       "      <td>10.0</td>\n",
       "      <td>0</td>\n",
       "      <td>0.14</td>\n",
       "    </tr>\n",
       "    <tr>\n",
       "      <th>3</th>\n",
       "      <td>27886</td>\n",
       "      <td>Romantic, stylish B&amp;B houseboat in canal district</td>\n",
       "      <td>97647</td>\n",
       "      <td>Flip</td>\n",
       "      <td>2010-03-23</td>\n",
       "      <td>100%</td>\n",
       "      <td>1.0</td>\n",
       "      <td>Westelijke Eilanden</td>\n",
       "      <td>1.0</td>\n",
       "      <td>1.0</td>\n",
       "      <td>...</td>\n",
       "      <td>2020-07-25</td>\n",
       "      <td>99.0</td>\n",
       "      <td>10.0</td>\n",
       "      <td>10.0</td>\n",
       "      <td>10.0</td>\n",
       "      <td>10.0</td>\n",
       "      <td>10.0</td>\n",
       "      <td>10.0</td>\n",
       "      <td>1</td>\n",
       "      <td>2.01</td>\n",
       "    </tr>\n",
       "    <tr>\n",
       "      <th>4</th>\n",
       "      <td>28871</td>\n",
       "      <td>Comfortable double room</td>\n",
       "      <td>124245</td>\n",
       "      <td>Edwin</td>\n",
       "      <td>2010-05-13</td>\n",
       "      <td>92%</td>\n",
       "      <td>1.0</td>\n",
       "      <td>Amsterdam Centrum</td>\n",
       "      <td>2.0</td>\n",
       "      <td>1.0</td>\n",
       "      <td>...</td>\n",
       "      <td>2020-09-20</td>\n",
       "      <td>97.0</td>\n",
       "      <td>10.0</td>\n",
       "      <td>10.0</td>\n",
       "      <td>10.0</td>\n",
       "      <td>10.0</td>\n",
       "      <td>10.0</td>\n",
       "      <td>10.0</td>\n",
       "      <td>0</td>\n",
       "      <td>2.68</td>\n",
       "    </tr>\n",
       "  </tbody>\n",
       "</table>\n",
       "<p>5 rows × 39 columns</p>\n",
       "</div>"
      ],
      "text/plain": [
       "      id                                               name  host_id  \\\n",
       "0   2818           Quiet Garden View Room & Super Fast WiFi     3159   \n",
       "1  20168       Studio with private bathroom in the centre 1    59484   \n",
       "2  25428    Lovely apt in City Centre (w.lift) near Jordaan    56142   \n",
       "3  27886  Romantic, stylish B&B houseboat in canal district    97647   \n",
       "4  28871                            Comfortable double room   124245   \n",
       "\n",
       "   host_name  host_since host_acceptance_rate  host_is_superhost  \\\n",
       "0     Daniel  2008-09-24                 100%                1.0   \n",
       "1  Alexander  2009-12-02                 100%                0.0   \n",
       "2       Joan  2009-11-20                  57%                1.0   \n",
       "3       Flip  2010-03-23                 100%                1.0   \n",
       "4      Edwin  2010-05-13                  92%                1.0   \n",
       "\n",
       "    host_neighbourhood  host_listings_count  host_has_profile_pic  ...  \\\n",
       "0       Indische Buurt                  1.0                   1.0  ...   \n",
       "1       Grachtengordel                  2.0                   1.0  ...   \n",
       "2       Grachtengordel                  2.0                   1.0  ...   \n",
       "3  Westelijke Eilanden                  1.0                   1.0  ...   \n",
       "4    Amsterdam Centrum                  2.0                   1.0  ...   \n",
       "\n",
       "   last_review review_scores_rating  review_scores_accuracy  \\\n",
       "0   2020-02-14                 98.0                    10.0   \n",
       "1   2020-04-09                 89.0                    10.0   \n",
       "2   2020-02-09                100.0                    10.0   \n",
       "3   2020-07-25                 99.0                    10.0   \n",
       "4   2020-09-20                 97.0                    10.0   \n",
       "\n",
       "   review_scores_cleanliness review_scores_checkin  \\\n",
       "0                       10.0                  10.0   \n",
       "1                       10.0                  10.0   \n",
       "2                       10.0                  10.0   \n",
       "3                       10.0                  10.0   \n",
       "4                       10.0                  10.0   \n",
       "\n",
       "  review_scores_communication  review_scores_location  review_scores_value  \\\n",
       "0                        10.0                     9.0                 10.0   \n",
       "1                        10.0                    10.0                  9.0   \n",
       "2                        10.0                    10.0                 10.0   \n",
       "3                        10.0                    10.0                 10.0   \n",
       "4                        10.0                    10.0                 10.0   \n",
       "\n",
       "   instant_bookable reviews_per_month  \n",
       "0                 1              1.95  \n",
       "1                 1              2.58  \n",
       "2                 0              0.14  \n",
       "3                 1              2.01  \n",
       "4                 0              2.68  \n",
       "\n",
       "[5 rows x 39 columns]"
      ]
     },
     "execution_count": 15,
     "metadata": {},
     "output_type": "execute_result"
    }
   ],
   "source": [
    "df.head()"
   ]
  },
  {
   "cell_type": "code",
   "execution_count": 16,
   "metadata": {
    "id": "nKc_EqKdLDdV"
   },
   "outputs": [],
   "source": [
    "# hint: check Pandas to_datetime method\n",
    "def add_host_days(df):\n",
    "    \"\"\"Add a column that represents the number of days that the host has been registered\n",
    "    :type df: dataframe\n",
    "    :rtype: dataframe\n",
    "    \"\"\"\n",
    "    data = datetime.now() - pd.to_datetime(df[\"host_since\"])\n",
    "    days = []\n",
    "    for day in data:\n",
    "        days.append(day.days)\n",
    "    df[\"host_days\"] = days\n",
    "    return df"
   ]
  },
  {
   "cell_type": "code",
   "execution_count": 17,
   "metadata": {},
   "outputs": [
    {
     "data": {
      "text/html": [
       "<div>\n",
       "<style scoped>\n",
       "    .dataframe tbody tr th:only-of-type {\n",
       "        vertical-align: middle;\n",
       "    }\n",
       "\n",
       "    .dataframe tbody tr th {\n",
       "        vertical-align: top;\n",
       "    }\n",
       "\n",
       "    .dataframe thead th {\n",
       "        text-align: right;\n",
       "    }\n",
       "</style>\n",
       "<table border=\"1\" class=\"dataframe\">\n",
       "  <thead>\n",
       "    <tr style=\"text-align: right;\">\n",
       "      <th></th>\n",
       "      <th>id</th>\n",
       "      <th>name</th>\n",
       "      <th>host_id</th>\n",
       "      <th>host_name</th>\n",
       "      <th>host_since</th>\n",
       "      <th>host_acceptance_rate</th>\n",
       "      <th>host_is_superhost</th>\n",
       "      <th>host_neighbourhood</th>\n",
       "      <th>host_listings_count</th>\n",
       "      <th>host_has_profile_pic</th>\n",
       "      <th>...</th>\n",
       "      <th>review_scores_rating</th>\n",
       "      <th>review_scores_accuracy</th>\n",
       "      <th>review_scores_cleanliness</th>\n",
       "      <th>review_scores_checkin</th>\n",
       "      <th>review_scores_communication</th>\n",
       "      <th>review_scores_location</th>\n",
       "      <th>review_scores_value</th>\n",
       "      <th>instant_bookable</th>\n",
       "      <th>reviews_per_month</th>\n",
       "      <th>host_days</th>\n",
       "    </tr>\n",
       "  </thead>\n",
       "  <tbody>\n",
       "    <tr>\n",
       "      <th>0</th>\n",
       "      <td>2818</td>\n",
       "      <td>Quiet Garden View Room &amp; Super Fast WiFi</td>\n",
       "      <td>3159</td>\n",
       "      <td>Daniel</td>\n",
       "      <td>2008-09-24</td>\n",
       "      <td>100%</td>\n",
       "      <td>1.0</td>\n",
       "      <td>Indische Buurt</td>\n",
       "      <td>1.0</td>\n",
       "      <td>1.0</td>\n",
       "      <td>...</td>\n",
       "      <td>98.0</td>\n",
       "      <td>10.0</td>\n",
       "      <td>10.0</td>\n",
       "      <td>10.0</td>\n",
       "      <td>10.0</td>\n",
       "      <td>9.0</td>\n",
       "      <td>10.0</td>\n",
       "      <td>1</td>\n",
       "      <td>1.95</td>\n",
       "      <td>4620.0</td>\n",
       "    </tr>\n",
       "    <tr>\n",
       "      <th>1</th>\n",
       "      <td>20168</td>\n",
       "      <td>Studio with private bathroom in the centre 1</td>\n",
       "      <td>59484</td>\n",
       "      <td>Alexander</td>\n",
       "      <td>2009-12-02</td>\n",
       "      <td>100%</td>\n",
       "      <td>0.0</td>\n",
       "      <td>Grachtengordel</td>\n",
       "      <td>2.0</td>\n",
       "      <td>1.0</td>\n",
       "      <td>...</td>\n",
       "      <td>89.0</td>\n",
       "      <td>10.0</td>\n",
       "      <td>10.0</td>\n",
       "      <td>10.0</td>\n",
       "      <td>10.0</td>\n",
       "      <td>10.0</td>\n",
       "      <td>9.0</td>\n",
       "      <td>1</td>\n",
       "      <td>2.58</td>\n",
       "      <td>4186.0</td>\n",
       "    </tr>\n",
       "    <tr>\n",
       "      <th>2</th>\n",
       "      <td>25428</td>\n",
       "      <td>Lovely apt in City Centre (w.lift) near Jordaan</td>\n",
       "      <td>56142</td>\n",
       "      <td>Joan</td>\n",
       "      <td>2009-11-20</td>\n",
       "      <td>57%</td>\n",
       "      <td>1.0</td>\n",
       "      <td>Grachtengordel</td>\n",
       "      <td>2.0</td>\n",
       "      <td>1.0</td>\n",
       "      <td>...</td>\n",
       "      <td>100.0</td>\n",
       "      <td>10.0</td>\n",
       "      <td>10.0</td>\n",
       "      <td>10.0</td>\n",
       "      <td>10.0</td>\n",
       "      <td>10.0</td>\n",
       "      <td>10.0</td>\n",
       "      <td>0</td>\n",
       "      <td>0.14</td>\n",
       "      <td>4198.0</td>\n",
       "    </tr>\n",
       "    <tr>\n",
       "      <th>3</th>\n",
       "      <td>27886</td>\n",
       "      <td>Romantic, stylish B&amp;B houseboat in canal district</td>\n",
       "      <td>97647</td>\n",
       "      <td>Flip</td>\n",
       "      <td>2010-03-23</td>\n",
       "      <td>100%</td>\n",
       "      <td>1.0</td>\n",
       "      <td>Westelijke Eilanden</td>\n",
       "      <td>1.0</td>\n",
       "      <td>1.0</td>\n",
       "      <td>...</td>\n",
       "      <td>99.0</td>\n",
       "      <td>10.0</td>\n",
       "      <td>10.0</td>\n",
       "      <td>10.0</td>\n",
       "      <td>10.0</td>\n",
       "      <td>10.0</td>\n",
       "      <td>10.0</td>\n",
       "      <td>1</td>\n",
       "      <td>2.01</td>\n",
       "      <td>4075.0</td>\n",
       "    </tr>\n",
       "    <tr>\n",
       "      <th>4</th>\n",
       "      <td>28871</td>\n",
       "      <td>Comfortable double room</td>\n",
       "      <td>124245</td>\n",
       "      <td>Edwin</td>\n",
       "      <td>2010-05-13</td>\n",
       "      <td>92%</td>\n",
       "      <td>1.0</td>\n",
       "      <td>Amsterdam Centrum</td>\n",
       "      <td>2.0</td>\n",
       "      <td>1.0</td>\n",
       "      <td>...</td>\n",
       "      <td>97.0</td>\n",
       "      <td>10.0</td>\n",
       "      <td>10.0</td>\n",
       "      <td>10.0</td>\n",
       "      <td>10.0</td>\n",
       "      <td>10.0</td>\n",
       "      <td>10.0</td>\n",
       "      <td>0</td>\n",
       "      <td>2.68</td>\n",
       "      <td>4024.0</td>\n",
       "    </tr>\n",
       "  </tbody>\n",
       "</table>\n",
       "<p>5 rows × 40 columns</p>\n",
       "</div>"
      ],
      "text/plain": [
       "      id                                               name  host_id  \\\n",
       "0   2818           Quiet Garden View Room & Super Fast WiFi     3159   \n",
       "1  20168       Studio with private bathroom in the centre 1    59484   \n",
       "2  25428    Lovely apt in City Centre (w.lift) near Jordaan    56142   \n",
       "3  27886  Romantic, stylish B&B houseboat in canal district    97647   \n",
       "4  28871                            Comfortable double room   124245   \n",
       "\n",
       "   host_name  host_since host_acceptance_rate  host_is_superhost  \\\n",
       "0     Daniel  2008-09-24                 100%                1.0   \n",
       "1  Alexander  2009-12-02                 100%                0.0   \n",
       "2       Joan  2009-11-20                  57%                1.0   \n",
       "3       Flip  2010-03-23                 100%                1.0   \n",
       "4      Edwin  2010-05-13                  92%                1.0   \n",
       "\n",
       "    host_neighbourhood  host_listings_count  host_has_profile_pic  ...  \\\n",
       "0       Indische Buurt                  1.0                   1.0  ...   \n",
       "1       Grachtengordel                  2.0                   1.0  ...   \n",
       "2       Grachtengordel                  2.0                   1.0  ...   \n",
       "3  Westelijke Eilanden                  1.0                   1.0  ...   \n",
       "4    Amsterdam Centrum                  2.0                   1.0  ...   \n",
       "\n",
       "   review_scores_rating review_scores_accuracy  review_scores_cleanliness  \\\n",
       "0                  98.0                   10.0                       10.0   \n",
       "1                  89.0                   10.0                       10.0   \n",
       "2                 100.0                   10.0                       10.0   \n",
       "3                  99.0                   10.0                       10.0   \n",
       "4                  97.0                   10.0                       10.0   \n",
       "\n",
       "   review_scores_checkin review_scores_communication review_scores_location  \\\n",
       "0                   10.0                        10.0                    9.0   \n",
       "1                   10.0                        10.0                   10.0   \n",
       "2                   10.0                        10.0                   10.0   \n",
       "3                   10.0                        10.0                   10.0   \n",
       "4                   10.0                        10.0                   10.0   \n",
       "\n",
       "   review_scores_value  instant_bookable  reviews_per_month host_days  \n",
       "0                 10.0                 1               1.95    4620.0  \n",
       "1                  9.0                 1               2.58    4186.0  \n",
       "2                 10.0                 0               0.14    4198.0  \n",
       "3                 10.0                 1               2.01    4075.0  \n",
       "4                 10.0                 0               2.68    4024.0  \n",
       "\n",
       "[5 rows x 40 columns]"
      ]
     },
     "execution_count": 17,
     "metadata": {},
     "output_type": "execute_result"
    }
   ],
   "source": [
    "df = add_host_days(df)\n",
    "df.head()"
   ]
  },
  {
   "cell_type": "code",
   "execution_count": 18,
   "metadata": {},
   "outputs": [
    {
     "data": {
      "text/plain": [
       "0     $59.00\n",
       "1    $236.00\n",
       "2    $125.00\n",
       "3    $135.00\n",
       "4     $75.00\n",
       "Name: price, dtype: object"
      ]
     },
     "execution_count": 18,
     "metadata": {},
     "output_type": "execute_result"
    }
   ],
   "source": [
    "df[\"price\"].head()"
   ]
  },
  {
   "cell_type": "code",
   "execution_count": 19,
   "metadata": {
    "id": "1KNvK2SKLEcW"
   },
   "outputs": [],
   "source": [
    "def convert_price(df):\n",
    "    \"\"\" Convert the prices into floating point numbers\n",
    "    :type df: dataframe\n",
    "    :rtype: dataframe\n",
    "    \"\"\"\n",
    "    data = df[\"price\"]\n",
    "    prices = []\n",
    "    for price in data:\n",
    "        preprocessed_string_price = re.sub(r'[,$]', '', price)\n",
    "        prices.append(float(preprocessed_string_price))\n",
    "    df[\"price\"] = prices\n",
    "    return df"
   ]
  },
  {
   "cell_type": "code",
   "execution_count": 20,
   "metadata": {
    "id": "MTGf_mt2iwwG"
   },
   "outputs": [
    {
     "data": {
      "text/plain": [
       "0     59.0\n",
       "1    236.0\n",
       "2    125.0\n",
       "3    135.0\n",
       "4     75.0\n",
       "Name: price, dtype: float64"
      ]
     },
     "execution_count": 20,
     "metadata": {},
     "output_type": "execute_result"
    }
   ],
   "source": [
    "df = convert_price(df)\n",
    "df[\"price\"].head()"
   ]
  },
  {
   "cell_type": "markdown",
   "metadata": {
    "id": "F1T-93iSQoXO"
   },
   "source": [
    "## Question 1c: Answering questions.\n",
    "\n",
    "You do not need to write the answer. In each cell, provide the Pandas code that outputs the result. Each answer can be given with 1-2 lines of Python code. Example question and answer:\n",
    "\n",
    "```python\n",
    "# What is the total number of rows in the dataframe?\n",
    "df.shape[0]\n",
    "```\n",
    "\n",
    "Now over to you:"
   ]
  },
  {
   "cell_type": "code",
   "execution_count": 21,
   "metadata": {
    "colab": {
     "base_uri": "https://localhost:8080/"
    },
    "id": "gM3BRpVlni7z",
    "outputId": "627f63ee-841f-4a33-d42b-d68592613e26"
   },
   "outputs": [
    {
     "data": {
      "text/plain": [
       "4172"
      ]
     },
     "execution_count": 21,
     "metadata": {},
     "output_type": "execute_result"
    }
   ],
   "source": [
    "# How many hosts offer 2 or more properties for rent?\n",
    "sum(df[\"host_listings_count\"] >= 2)"
   ]
  },
  {
   "cell_type": "code",
   "execution_count": 22,
   "metadata": {
    "colab": {
     "base_uri": "https://localhost:8080/"
    },
    "id": "angGfYJxpOJ5",
    "outputId": "9a71425f-c1fc-4e46-d100-b4acb3729fbe"
   },
   "outputs": [
    {
     "data": {
      "text/plain": [
       "8000.0"
      ]
     },
     "execution_count": 22,
     "metadata": {},
     "output_type": "execute_result"
    }
   ],
   "source": [
    "# What is the highest price for a listing?\n",
    "max(df[\"price\"])"
   ]
  },
  {
   "cell_type": "code",
   "execution_count": 23,
   "metadata": {
    "colab": {
     "base_uri": "https://localhost:8080/"
    },
    "id": "WRiPS2fypnz3",
    "outputId": "02a948d4-3afc-414a-e188-4e0bdfa88fa4"
   },
   "outputs": [
    {
     "data": {
      "text/plain": [
       "46015289"
      ]
     },
     "execution_count": 23,
     "metadata": {},
     "output_type": "execute_result"
    }
   ],
   "source": [
    "# What is the ID of the listing that has the largest number of bedrooms?\n",
    "df[\"id\"][np.argmax(df[\"bedrooms\"])]"
   ]
  },
  {
   "cell_type": "code",
   "execution_count": 24,
   "metadata": {
    "colab": {
     "base_uri": "https://localhost:8080/"
    },
    "id": "eu1cSceDnsM4",
    "outputId": "c5253373-ffd4-4fea-e8c2-9f42318492b7"
   },
   "outputs": [
    {
     "data": {
      "text/plain": [
       "258273"
      ]
     },
     "execution_count": 24,
     "metadata": {},
     "output_type": "execute_result"
    }
   ],
   "source": [
    "# What is the ID of the listing with the largest advertised price\n",
    "df[\"id\"][np.argmax(df[\"price\"])]"
   ]
  },
  {
   "cell_type": "code",
   "execution_count": 25,
   "metadata": {
    "colab": {
     "base_uri": "https://localhost:8080/"
    },
    "id": "ZhzBksbCumZB",
    "outputId": "8f5c2b6f-bddd-4115-faa7-c672a7c67ac9"
   },
   "outputs": [
    {
     "data": {
      "text/plain": [
       "14433"
      ]
     },
     "execution_count": 25,
     "metadata": {},
     "output_type": "execute_result"
    }
   ],
   "source": [
    "# There are different room types. How many listings are there for the most common room type?\n",
    "df[\"room_type\"].value_counts()[0]"
   ]
  },
  {
   "cell_type": "code",
   "execution_count": 26,
   "metadata": {
    "colab": {
     "base_uri": "https://localhost:8080/"
    },
    "id": "clsRn8tEVw4a",
    "outputId": "99cd1a0f-12e9-46d3-e1db-83da28ef8c85"
   },
   "outputs": [
    {
     "data": {
      "text/plain": [
       "2691"
      ]
     },
     "execution_count": 26,
     "metadata": {},
     "output_type": "execute_result"
    }
   ],
   "source": [
    "# How many hosts are there that have been registered for more than 3000 days?\n",
    "sum(df[\"host_days\"] > 3000)"
   ]
  },
  {
   "cell_type": "markdown",
   "metadata": {
    "id": "_a4I7y_FsVI0"
   },
   "source": [
    "## Question 1d: Exploratory analyses"
   ]
  },
  {
   "cell_type": "markdown",
   "metadata": {
    "id": "IcA5tI8ftsFS"
   },
   "source": [
    "Produce a barplot of the average nightly price per neighbourhood as instructed in the Coursework proforma:"
   ]
  },
  {
   "cell_type": "code",
   "execution_count": 29,
   "metadata": {},
   "outputs": [
    {
     "data": {
      "image/png": "[encoded data removed]",
      "text/plain": [
       "<Figure size 432x288 with 1 Axes>"
      ]
     },
     "metadata": {
      "needs_background": "light"
     },
     "output_type": "display_data"
    }
   ],
   "source": [
    "barplot_on_price_and_neighbourhood = sns.barplot(x=\"price\", y=\"neighbourhood_cleansed\", data=df)"
   ]
  },
  {
   "cell_type": "markdown",
   "metadata": {
    "id": "834GVr84yfAA"
   },
   "source": [
    "Plot a correlation matrix as instructed in the Coursework proforma:"
   ]
  },
  {
   "cell_type": "code",
   "execution_count": 30,
   "metadata": {
    "id": "fvS5_JdIFQbG"
   },
   "outputs": [
    {
     "data": {
      "image/png": "[encoded data removed]",
      "text/plain": [
       "<Figure size 432x288 with 2 Axes>"
      ]
     },
     "metadata": {
      "needs_background": "light"
     },
     "output_type": "display_data"
    }
   ],
   "source": [
    "ratings = [\"review_scores_cleanliness\", \"review_scores_checkin\", \"review_scores_communication\",\n",
    "           \"review_scores_location\", \"review_scores_value\"]\n",
    "ratings_correlation_heatmap = sns.heatmap(df[ratings].corr())"
   ]
  },
  {
   "cell_type": "markdown",
   "metadata": {
    "id": "834GVr84yfAA"
   },
   "source": [
    "Plot a geographical distribution as instructed in the Coursework proforma:"
   ]
  },
  {
   "cell_type": "code",
   "execution_count": 31,
   "metadata": {
    "id": "qbTja8fwFScc"
   },
   "outputs": [
    {
     "data": {
      "text/plain": [
       "<matplotlib.legend.Legend at 0x16f056a5be0>"
      ]
     },
     "execution_count": 31,
     "metadata": {},
     "output_type": "execute_result"
    },
    {
     "data": {
      "image/png": "[encoded data removed]",
      "text/plain": [
       "<Figure size 432x288 with 1 Axes>"
      ]
     },
     "metadata": {
      "needs_background": "light"
     },
     "output_type": "display_data"
    }
   ],
   "source": [
    "geographical_distribution = sns.scatterplot(data=df[df.price>150], x=\"longitude\", y=\"latitude\",\n",
    "                                            hue=\"price\", size=\"price\")\n",
    "geographical_distribution.legend(loc='center left', bbox_to_anchor=(1, 0.5))"
   ]
  },
  {
   "cell_type": "markdown",
   "metadata": {
    "id": "0dLbkYk6y9eF"
   },
   "source": [
    "---\n",
    "\n",
    "# Part 2: Statistical analysis and recommender system\n",
    "## CMT 309 Data Science Portfolio\n",
    "\n",
    "Instructions:\n",
    "\n",
    "- Answer the questions by filling in the appropriate sections. \n",
    "- Do not remove or rename section headings or any code that has been provided, unless instructed otherwise.\n",
    "- You can add as many additional cells with code as you like.\n",
    "- Sometimes you are asked to provide an answer or justification. To this end, double-click on the text cells and add your answer/explanation following the text \"YOUR ANSWER:\".\n",
    "\n",
    "Before submitting,\n",
    "\n",
    "- Ensure that the code is clean, readable, and well documented. \n",
    "- Restart the kernel (to wipe all variables) and then run the code from top to bottom to produce all intermediate outputs. "
   ]
  },
  {
   "cell_type": "markdown",
   "metadata": {
    "id": "jtpZraSiE00A"
   },
   "source": [
    "## Question 2a: Linear regression and t-tests\n"
   ]
  },
  {
   "cell_type": "code",
   "execution_count": 32,
   "metadata": {},
   "outputs": [
    {
     "name": "stdout",
     "output_type": "stream",
     "text": [
      "15880\n"
     ]
    }
   ],
   "source": [
    "predictors = [\"review_scores_accuracy\", \"review_scores_cleanliness\", \"review_scores_checkin\",\n",
    "              \"review_scores_communication\", \"review_scores_location\", \"review_scores_value\"]\n",
    "target = \"review_scores_rating\"\n",
    "combine = predictors + [target]\n",
    "print(len(df[combine].dropna()))"
   ]
  },
  {
   "cell_type": "code",
   "execution_count": 33,
   "metadata": {
    "id": "RDCTzGiooPDJ"
   },
   "outputs": [],
   "source": [
    "X = df[predictors]\n",
    "X = sm.add_constant(X)\n",
    "y = df[target]\n",
    "# Fit and summarize OLS model\n",
    "# I choose drop between imputation and drop because I think the sample is large enough even after dropping (15880)\n",
    "mod = sm.OLS(y, X, missing=\"drop\")\n",
    "\n",
    "mod_after_fit = mod.fit()\n",
    "\n",
    "summary = mod_after_fit.summary(xname=[\"Intercept\", \"accuracy\", \"cleanliness\", \"checkin\", \"communication\", \"location\", \"value\"])"
   ]
  },
  {
   "cell_type": "code",
   "execution_count": 34,
   "metadata": {},
   "outputs": [
    {
     "name": "stdout",
     "output_type": "stream",
     "text": [
      "                             OLS Regression Results                             \n",
      "================================================================================\n",
      "Dep. Variable:     review_scores_rating   R-squared:                       0.726\n",
      "Model:                              OLS   Adj. R-squared:                  0.726\n",
      "Method:                   Least Squares   F-statistic:                     7008.\n",
      "Date:                  Sat, 15 May 2021   Prob (F-statistic):               0.00\n",
      "Time:                          22:36:38   Log-Likelihood:                -42957.\n",
      "No. Observations:                 15880   AIC:                         8.593e+04\n",
      "Df Residuals:                     15873   BIC:                         8.598e+04\n",
      "Df Model:                             6                                         \n",
      "Covariance Type:              nonrobust                                         \n",
      "=================================================================================\n",
      "                    coef    std err          t      P>|t|      [0.025      0.975]\n",
      "---------------------------------------------------------------------------------\n",
      "Intercept        -0.3169      0.550     -0.577      0.564      -1.394       0.760\n",
      "accuracy          2.6153      0.056     46.889      0.000       2.506       2.725\n",
      "cleanliness       2.1438      0.041     52.279      0.000       2.063       2.224\n",
      "checkin           1.0232      0.060     16.913      0.000       0.905       1.142\n",
      "communication     1.8090      0.066     27.490      0.000       1.680       1.938\n",
      "location          0.3988      0.045      8.858      0.000       0.311       0.487\n",
      "value             1.9905      0.047     42.354      0.000       1.898       2.083\n",
      "==============================================================================\n",
      "Omnibus:                     4769.894   Durbin-Watson:                   1.991\n",
      "Prob(Omnibus):                  0.000   Jarque-Bera (JB):            90176.958\n",
      "Skew:                          -0.965   Prob(JB):                         0.00\n",
      "Kurtosis:                      14.514   Cond. No.                         450.\n",
      "==============================================================================\n",
      "\n",
      "Notes:\n",
      "[1] Standard Errors assume that the covariance matrix of the errors is correctly specified.\n"
     ]
    }
   ],
   "source": [
    "print(summary)"
   ]
  },
  {
   "cell_type": "markdown",
   "metadata": {
    "id": "i9Lalo7srWMr"
   },
   "source": [
    "**T-test questions**:\n",
    "\n",
    "Which room types are significantly different in terms of nightly price?\n",
    "\n",
    "if $\\alpha=0.01$, we can conlude that **(private room and entire home/apt),\n",
    "(private room and hotel room), (entire home/apt and hotel room), and\n",
    "(entire home/apt and shared room)** are significantly different in terms of \n",
    "nightly price.\n",
    "\n",
    "Do the significances change if you perform Bonferroni correction to the alpha level: https://en.wikipedia.org/wiki/Bonferroni_correction ?\n",
    "\n",
    "if $\\alpha=0.001667$ (after bonferroni correction), we can conlude that **(private room and entire home/apt)\n",
    "and (private room and hotel room)** are significantly different in terms of \n",
    "nightly price.\n"
   ]
  },
  {
   "cell_type": "code",
   "execution_count": 35,
   "metadata": {},
   "outputs": [
    {
     "name": "stdout",
     "output_type": "stream",
     "text": [
      "alpha:0.01; alpha after bonferroni correction:0.0016666666666666668\n"
     ]
    }
   ],
   "source": [
    "alpha = 0.01\n",
    "# Divided by 6 because we will have 6 independent tests\n",
    "alpha_after_bonferroni_correction = 0.01 / 6\n",
    "print(f\"alpha:{alpha}; alpha after bonferroni correction:{alpha_after_bonferroni_correction}\")"
   ]
  },
  {
   "cell_type": "code",
   "execution_count": 36,
   "metadata": {},
   "outputs": [
    {
     "data": {
      "text/plain": [
       "array(['Private room', 'Entire home/apt', 'Hotel room', 'Shared room'],\n",
       "      dtype=object)"
      ]
     },
     "execution_count": 36,
     "metadata": {},
     "output_type": "execute_result"
    }
   ],
   "source": [
    "room_types = df[\"room_type\"].unique()\n",
    "room_types"
   ]
  },
  {
   "cell_type": "code",
   "execution_count": 37,
   "metadata": {},
   "outputs": [],
   "source": [
    "pvalues = []\n",
    "for room_type1 in room_types:\n",
    "    for room_type2 in room_types:\n",
    "        pvalues.append(\n",
    "            round(\n",
    "                scipy.stats.ttest_ind(df[df[\"room_type\"]==room_type1][\"price\"],\n",
    "                df[df[\"room_type\"]==room_type2][\"price\"]).pvalue\n",
    "                ,3)\n",
    "        )\n",
    "pvalues = np.reshape(pvalues, (4,4))    "
   ]
  },
  {
   "cell_type": "code",
   "execution_count": 38,
   "metadata": {},
   "outputs": [
    {
     "data": {
      "text/html": [
       "<div>\n",
       "<style scoped>\n",
       "    .dataframe tbody tr th:only-of-type {\n",
       "        vertical-align: middle;\n",
       "    }\n",
       "\n",
       "    .dataframe tbody tr th {\n",
       "        vertical-align: top;\n",
       "    }\n",
       "\n",
       "    .dataframe thead th {\n",
       "        text-align: right;\n",
       "    }\n",
       "</style>\n",
       "<table border=\"1\" class=\"dataframe\">\n",
       "  <thead>\n",
       "    <tr style=\"text-align: right;\">\n",
       "      <th></th>\n",
       "      <th>Private room</th>\n",
       "      <th>Entire home/apt</th>\n",
       "      <th>Hotel room</th>\n",
       "      <th>Shared room</th>\n",
       "    </tr>\n",
       "  </thead>\n",
       "  <tbody>\n",
       "    <tr>\n",
       "      <th>Private room</th>\n",
       "      <td>1.000</td>\n",
       "      <td>0.000</td>\n",
       "      <td>0.000</td>\n",
       "      <td>0.452</td>\n",
       "    </tr>\n",
       "    <tr>\n",
       "      <th>Entire home/apt</th>\n",
       "      <td>0.000</td>\n",
       "      <td>1.000</td>\n",
       "      <td>0.003</td>\n",
       "      <td>0.002</td>\n",
       "    </tr>\n",
       "    <tr>\n",
       "      <th>Hotel room</th>\n",
       "      <td>0.000</td>\n",
       "      <td>0.003</td>\n",
       "      <td>1.000</td>\n",
       "      <td>0.312</td>\n",
       "    </tr>\n",
       "    <tr>\n",
       "      <th>Shared room</th>\n",
       "      <td>0.452</td>\n",
       "      <td>0.002</td>\n",
       "      <td>0.312</td>\n",
       "      <td>1.000</td>\n",
       "    </tr>\n",
       "  </tbody>\n",
       "</table>\n",
       "</div>"
      ],
      "text/plain": [
       "                 Private room  Entire home/apt  Hotel room  Shared room\n",
       "Private room            1.000            0.000       0.000        0.452\n",
       "Entire home/apt         0.000            1.000       0.003        0.002\n",
       "Hotel room              0.000            0.003       1.000        0.312\n",
       "Shared room             0.452            0.002       0.312        1.000"
      ]
     },
     "execution_count": 38,
     "metadata": {},
     "output_type": "execute_result"
    }
   ],
   "source": [
    "pvalues_df = pd.DataFrame(pvalues, \n",
    "                  index=room_types, \n",
    "                  columns=room_types)\n",
    "pvalues_df"
   ]
  },
  {
   "cell_type": "markdown",
   "metadata": {
    "id": "t8mwnrOhboSC"
   },
   "source": [
    "## Question 2b: Linear regression with variable selection"
   ]
  },
  {
   "cell_type": "markdown",
   "metadata": {
    "id": "Z5aMn9YWrNnI"
   },
   "source": [
    "Provide a short justification (2-3 sentences) for your choice of variables.\n",
    "\n",
    "- Based on **correlation values** with price, The predictors whose correlation values **greater than 0.05** will be selected; \n",
    "- And also based on **correlation graphs**, The variables having **non-linearity relationship with price**, which could cause a low correlation value, will be selected.\n",
    "- Therefore, the selected variables are **\"accommodates\", \"bedrooms\", \"beds\", \"availability_30\", \"availability_60\", \"availability_90\", \"availability_365\", \"number_of_reviews\", \"number_of_reviews_ltm\", \"review_scores_location\", \"reviews_per_month\", \"room_type_Entire home/apt\", \"room_type_Private room\", \"latitude\", \"longitude\", and \"host_days\"**"
   ]
  },
  {
   "cell_type": "code",
   "execution_count": 39,
   "metadata": {},
   "outputs": [],
   "source": [
    "df_room_type_dummies = pd.get_dummies(df, columns=[\"room_type\"])"
   ]
  },
  {
   "cell_type": "code",
   "execution_count": 40,
   "metadata": {},
   "outputs": [
    {
     "data": {
      "text/plain": [
       "room_type_Private room      -0.208645\n",
       "reviews_per_month           -0.106022\n",
       "number_of_reviews           -0.083182\n",
       "number_of_reviews_ltm       -0.079468\n",
       "availability_60              0.058596\n",
       "availability_90              0.058762\n",
       "availability_30              0.060284\n",
       "availability_365             0.066920\n",
       "review_scores_location       0.072974\n",
       "room_type_Entire home/apt    0.209981\n",
       "beds                         0.267632\n",
       "bedrooms                     0.275594\n",
       "accommodates                 0.333546\n",
       "price                        1.000000\n",
       "Name: price, dtype: float64"
      ]
     },
     "execution_count": 40,
     "metadata": {},
     "output_type": "execute_result"
    }
   ],
   "source": [
    "# Only accept predictors whose correlation > 0.05\n",
    "threshold = 0.05\n",
    "corr_result = df_room_type_dummies.corr()[\"price\"]\n",
    "corr_result[abs(corr_result)>threshold].sort_values()"
   ]
  },
  {
   "cell_type": "code",
   "execution_count": 41,
   "metadata": {
    "id": "FWj8vwcLFIUL"
   },
   "outputs": [
    {
     "data": {
      "image/png": "[encoded data removed]",
      "text/plain": [
       "<Figure size 7740x180 with 44 Axes>"
      ]
     },
     "metadata": {
      "needs_background": "light"
     },
     "output_type": "display_data"
    }
   ],
   "source": [
    "import warnings\n",
    "warnings.filterwarnings(\"ignore\") \n",
    "price_and_others_correlation = sns.pairplot(data=df_room_type_dummies,\n",
    "                  y_vars=[\"price\"],\n",
    "                  x_vars=df_room_type_dummies.columns)"
   ]
  },
  {
   "cell_type": "code",
   "execution_count": 42,
   "metadata": {},
   "outputs": [
    {
     "data": {
      "text/plain": [
       "latitude    -0.001789\n",
       "longitude    0.012194\n",
       "host_days    0.037237\n",
       "Name: price, dtype: float64"
      ]
     },
     "execution_count": 42,
     "metadata": {},
     "output_type": "execute_result"
    }
   ],
   "source": [
    "# Observe the correlation graph, we can find non-linearity patterns, \n",
    "# which might cause the correlations with price close to 0.\n",
    "corr_result[[\"latitude\", \"longitude\", \"host_days\"]]"
   ]
  },
  {
   "cell_type": "code",
   "execution_count": 43,
   "metadata": {},
   "outputs": [],
   "source": [
    "price_predictors = [\"accommodates\", \"bedrooms\", \"beds\", \"availability_30\", \"availability_60\", \n",
    "                      \"availability_90\", \"availability_365\", \"number_of_reviews\", \"number_of_reviews_ltm\", \n",
    "                      \"review_scores_location\", \"reviews_per_month\", \"room_type_Entire home/apt\", \n",
    "                      \"room_type_Private room\", \"latitude\", \"longitude\", \"host_days\"]"
   ]
  },
  {
   "cell_type": "code",
   "execution_count": 44,
   "metadata": {},
   "outputs": [],
   "source": [
    "def get_model(df, predictors, target):\n",
    "    \"\"\" Get model\n",
    "    :type df: dataframe --  the listings dataframe\n",
    "    :type predictors: list -- selected predictors\n",
    "    :type target: str -- target\n",
    "    :rtype: model \n",
    "    \"\"\"\n",
    "    X = df[predictors]\n",
    "    X = sm.add_constant(X)\n",
    "    y = df[target]\n",
    "    mod = sm.OLS(y, X, missing=\"drop\")\n",
    "    mod_after_fit = mod.fit()\n",
    "    return mod_after_fit\n",
    "def get_rsquared_adj(df, predictors, target):\n",
    "    \"\"\" Get adjusted R2 value of predictors => model\n",
    "    :type df: dataframe --  the listings dataframe\n",
    "    :type predictors: list -- selected predictors\n",
    "    :type target: str -- target\n",
    "    :rtype: float: -- adjusted R2 value\n",
    "    \"\"\"\n",
    "    mod_after_fit = get_model(df, predictors, target)\n",
    "    return mod_after_fit.rsquared_adj\n",
    "def get_max_pvalue_and_its_name(df, predictors, target):\n",
    "    \"\"\" Get max pvalue and its name\n",
    "    :type df: dataframe --  the listings dataframe\n",
    "    :type predictors: list -- selected predictors\n",
    "    :type target: str -- target\n",
    "    :rtype: tuple -- (pvalue, name)\n",
    "    \"\"\"\n",
    "    mod_after_fit = get_model(df, predictors, target)\n",
    "    max_pvalue = 0\n",
    "    length = len(mod_after_fit.pvalues)\n",
    "    # 0 is ignored, because it is an intercept\n",
    "    for i in range(1, length):   \n",
    "        pvalue = mod_after_fit.pvalues[i]\n",
    "        name = mod_after_fit.pvalues.index[i]\n",
    "        if pvalue >= max_pvalue:\n",
    "            max_pvalue = pvalue\n",
    "            max_name = name\n",
    "    return max_pvalue, max_name"
   ]
  },
  {
   "cell_type": "code",
   "execution_count": 45,
   "metadata": {},
   "outputs": [],
   "source": [
    "def variable_selection(df, predictors, target, alpha):\n",
    "    \"\"\" Help select only significant variables\n",
    "    :type df: dataframe --  the listings dataframe\n",
    "    :type predictors: list -- initial selected predictors\n",
    "    :type target: str -- target\n",
    "    :type alpha: float -- significance level for selecting significant predictors \n",
    "    :rtype: list -- reduced predictors\n",
    "    \"\"\"\n",
    "    # stage 1 -- build a model by adding variables one after the other\n",
    "    reduced_predictors = []\n",
    "    R2 = 0\n",
    "    delta = 1 # 1 is no meaning, just for making \"while loop\" run\n",
    "    while (delta > 0):\n",
    "        new_R2 = 0\n",
    "        good_predictor = None\n",
    "        for predictor in predictors:\n",
    "            if predictor not in reduced_predictors:\n",
    "                combined_predictors = [predictor] + reduced_predictors\n",
    "                rsquared_adj = get_rsquared_adj(df, combined_predictors, target)\n",
    "                if rsquared_adj > new_R2:\n",
    "                    new_R2 = rsquared_adj\n",
    "                    good_predictor = predictor\n",
    "        if new_R2 > R2:\n",
    "            reduced_predictors.append(good_predictor)\n",
    "        delta = new_R2 - R2 # delta > 0 means new model has greater adjusted R2 value\n",
    "        R2 = new_R2\n",
    "    # stage 2 -- keep removing variables until all variables in the model are significant\n",
    "    pvalue = 1 # 1 is just for making the \"while loop\" run\n",
    "    while pvalue > alpha:\n",
    "        pvalue, name = get_max_pvalue_and_its_name(df, reduced_predictors, target)\n",
    "        if pvalue > alpha:\n",
    "            reduced_predictors.remove(name)\n",
    "    # Stage 1 and 2 both done\n",
    "    return reduced_predictors"
   ]
  },
  {
   "cell_type": "code",
   "execution_count": 46,
   "metadata": {},
   "outputs": [
    {
     "data": {
      "text/plain": [
       "['accommodates',\n",
       " 'review_scores_location',\n",
       " 'room_type_Private room',\n",
       " 'availability_365',\n",
       " 'number_of_reviews_ltm',\n",
       " 'bedrooms',\n",
       " 'availability_30',\n",
       " 'latitude',\n",
       " 'room_type_Entire home/apt',\n",
       " 'number_of_reviews']"
      ]
     },
     "execution_count": 46,
     "metadata": {},
     "output_type": "execute_result"
    }
   ],
   "source": [
    "reduced_predictors = variable_selection(df_room_type_dummies, price_predictors, \"price\", 0.05)\n",
    "reduced_predictors"
   ]
  },
  {
   "cell_type": "markdown",
   "metadata": {
    "id": "lzz5uexvkgil"
   },
   "source": [
    "## Question 2c: Recommendation systems"
   ]
  },
  {
   "cell_type": "markdown",
   "metadata": {
    "id": "uW-LealN0kOU"
   },
   "source": [
    "### Recommend a neighbourhood given a budget"
   ]
  },
  {
   "cell_type": "code",
   "execution_count": 27,
   "metadata": {},
   "outputs": [
    {
     "data": {
      "text/plain": [
       "neighbourhood_cleansed    Zuid\n",
       "price                     8000\n",
       "dtype: object"
      ]
     },
     "execution_count": 27,
     "metadata": {},
     "output_type": "execute_result"
    }
   ],
   "source": [
    "np.max(df[[\"neighbourhood_cleansed\",\"price\"]])"
   ]
  },
  {
   "cell_type": "code",
   "execution_count": 48,
   "metadata": {},
   "outputs": [],
   "source": [
    "def recommend_neighbourhood_on_absolute_properties(df, condition):\n",
    "    \"\"\" Recommend a neighbourhood given a budget\n",
    "    :type df: dataframe --  the listings dataframe\n",
    "    :type condition: series<bool> -- for filtering rows which are not fitting into the condition\n",
    "    :rtype: str -- name of the neighbourhood providing absolute max properties\n",
    "    \"\"\"\n",
    "    value_counts = df[\"neighbourhood_cleansed\"][condition].value_counts().sort_values()\n",
    "    recommend_neighbourhood = value_counts.index[-1]\n",
    "    return recommend_neighbourhood\n",
    "def recommend_neighbourhood_on_relative_properties(df, condition):\n",
    "    \"\"\" Recommend a neighbourhood given a budget\n",
    "    :type df: dataframe --  the listings dataframe\n",
    "    :type condition: series<bool> -- for filtering rows which are not fitting into the condition\n",
    "    :rtype: str -- name of the neighbourhood providing relative max properties\n",
    "    \"\"\"\n",
    "    total_value_counts = df[\"neighbourhood_cleansed\"].value_counts().sort_index()\n",
    "    value_counts = df[\"neighbourhood_cleansed\"][condition].value_counts().sort_index()\n",
    "    relative_value_counts = (value_counts / total_value_counts).sort_values()\n",
    "    recommend_neighbourhood = relative_value_counts.index[-1]\n",
    "    return recommend_neighbourhood"
   ]
  },
  {
   "cell_type": "code",
   "execution_count": 49,
   "metadata": {
    "id": "DqUlxeDk4Hww"
   },
   "outputs": [],
   "source": [
    "def recommend_neighbourhood(df, budget_min, budget_max, relative):\n",
    "    \"\"\" Recommend a neighbourhood given a budget\n",
    "    :type df: dataframe --  the listings dataframe\n",
    "    :type budget_min: float -- minimum budget\n",
    "    :type budget_max: float -- maximum budget\n",
    "    :type relative: bool -- True compare relative numbers and False compare absolute property numbers\n",
    "    :rtype: str -- name of the neighbourhood providing either relative max or absolute max properties\n",
    "    \"\"\"\n",
    "    condition = (df[\"price\"]>=budget_min) & (df[\"price\"]<=budget_max)\n",
    "    if sum(condition) == 0: \n",
    "        return \"Sorry, No neighbourhood satisfies your budgets plan yet\"\n",
    "    if not relative: return recommend_neighbourhood_on_absolute_properties(df, condition)\n",
    "    return recommend_neighbourhood_on_relative_properties(df, condition)"
   ]
  },
  {
   "cell_type": "code",
   "execution_count": 50,
   "metadata": {},
   "outputs": [
    {
     "data": {
      "text/plain": [
       "'De Baarsjes - Oud-West'"
      ]
     },
     "execution_count": 50,
     "metadata": {},
     "output_type": "execute_result"
    }
   ],
   "source": [
    "recommend_neighbourhood(df, 100, 300, False)"
   ]
  },
  {
   "cell_type": "code",
   "execution_count": 51,
   "metadata": {},
   "outputs": [
    {
     "data": {
      "text/plain": [
       "'Oud-Oost'"
      ]
     },
     "execution_count": 51,
     "metadata": {},
     "output_type": "execute_result"
    }
   ],
   "source": [
    "recommend_neighbourhood(df, 100, 300, True)"
   ]
  },
  {
   "cell_type": "code",
   "execution_count": 52,
   "metadata": {},
   "outputs": [
    {
     "data": {
      "text/plain": [
       "'Sorry, No neighbourhood satisfies your budgets plan yet'"
      ]
     },
     "execution_count": 52,
     "metadata": {},
     "output_type": "execute_result"
    }
   ],
   "source": [
    "recommend_neighbourhood(df, 100000, 3000000, True)"
   ]
  },
  {
   "cell_type": "markdown",
   "metadata": {
    "id": "a-FSWRJ6zSMM"
   },
   "source": [
    "### Price recommender for hosts"
   ]
  },
  {
   "cell_type": "code",
   "execution_count": 28,
   "metadata": {},
   "outputs": [],
   "source": [
    "def get_euclidean_distance(df, latitude, longitude):\n",
    "    \"\"\" Recommend a nightly price for a host\n",
    "    :type df: dataframe -- the listings dataframe\n",
    "    :type latitude: float -- geolocation \n",
    "    :type longitude: float -- geolocation \n",
    "    :rtype: dataframe -- dataframe with columns price and euclidean_distance\n",
    "    \"\"\"\n",
    "    left = (df[\"latitude\"] - latitude)**2\n",
    "    right = (df[\"longitude\"] - longitude)**2\n",
    "    euclidean_distance = np.sqrt(left + right)\n",
    "    price = df[\"price\"]\n",
    "    result =  pd.DataFrame({\n",
    "        \"price\": price,\n",
    "        \"euclidean_distance\": euclidean_distance\n",
    "    })\n",
    "    result = result[(result[\"price\"] > 0) & (result[\"euclidean_distance\"].isna() == False)]\n",
    "    return result"
   ]
  },
  {
   "cell_type": "code",
   "execution_count": 45,
   "metadata": {
    "id": "DqUlxeDk4Hww"
   },
   "outputs": [],
   "source": [
    "def recommend_price(df, latitude, longitude, n_neighbours=7, room_type=None):\n",
    "    \"\"\" Recommend a nightly price for a host\n",
    "    :type df: dataframe -- the listings dataframe\n",
    "    :type latitude: float -- geolocation \n",
    "    :type longitude: float -- geolocation \n",
    "    :type n_neighbours: int -- the number of closeby properties\n",
    "    :type room_type: str -- room type\n",
    "    :rtype: float -- a nightly price for the host\n",
    "    \"\"\"\n",
    "    if room_type:\n",
    "        df = df[df[\"room_type\"] == room_type]\n",
    "    price_and_euclidean_distance_df = get_euclidean_distance(df, latitude, longitude)\n",
    "    price_and_euclidean_distance_df = price_and_euclidean_distance_df.sort_values(by=\"euclidean_distance\")\n",
    "    prices = price_and_euclidean_distance_df[\"price\"].to_numpy()\n",
    "    price = np.mean(prices[:n_neighbours])\n",
    "    return price"
   ]
  },
  {
   "cell_type": "code",
   "execution_count": 30,
   "metadata": {},
   "outputs": [
    {
     "data": {
      "text/plain": [
       "array(['Private room', 'Entire home/apt', 'Hotel room', 'Shared room'],\n",
       "      dtype=object)"
      ]
     },
     "execution_count": 30,
     "metadata": {},
     "output_type": "execute_result"
    }
   ],
   "source": [
    "df[\"room_type\"].unique()"
   ]
  },
  {
   "cell_type": "code",
   "execution_count": 31,
   "metadata": {},
   "outputs": [
    {
     "data": {
      "text/plain": [
       "66.98"
      ]
     },
     "execution_count": 31,
     "metadata": {},
     "output_type": "execute_result"
    }
   ],
   "source": [
    "recommend_price(df, 150, 49, 50, room_type=\"Private room\")"
   ]
  },
  {
   "cell_type": "code",
   "execution_count": 32,
   "metadata": {},
   "outputs": [
    {
     "data": {
      "text/plain": [
       "145.28"
      ]
     },
     "execution_count": 32,
     "metadata": {},
     "output_type": "execute_result"
    }
   ],
   "source": [
    "recommend_price(df, 150, 49, 50, room_type=\"Entire home/apt\")"
   ]
  },
  {
   "cell_type": "code",
   "execution_count": 33,
   "metadata": {},
   "outputs": [
    {
     "data": {
      "text/plain": [
       "159.02"
      ]
     },
     "execution_count": 33,
     "metadata": {},
     "output_type": "execute_result"
    }
   ],
   "source": [
    "recommend_price(df, 150, 49, 50, room_type=\"Hotel room\")"
   ]
  },
  {
   "cell_type": "code",
   "execution_count": 34,
   "metadata": {},
   "outputs": [
    {
     "data": {
      "text/plain": [
       "104.6"
      ]
     },
     "execution_count": 34,
     "metadata": {},
     "output_type": "execute_result"
    }
   ],
   "source": [
    "recommend_price(df, 150, 49, 50, room_type=\"Shared room\")"
   ]
  },
  {
   "cell_type": "code",
   "execution_count": 35,
   "metadata": {},
   "outputs": [
    {
     "data": {
      "text/plain": [
       "107.74"
      ]
     },
     "execution_count": 35,
     "metadata": {},
     "output_type": "execute_result"
    }
   ],
   "source": [
    "recommend_price(df, 150, 49, 50)"
   ]
  }
 ],
 "metadata": {
  "colab": {
   "collapsed_sections": [],
   "name": "Part1_2.ipynb",
   "provenance": [],
   "toc_visible": true
  },
  "kernelspec": {
   "display_name": "Python 3",
   "language": "python",
   "name": "python3"
  },
  "language_info": {
   "codemirror_mode": {
    "name": "ipython",
    "version": 3
   },
   "file_extension": ".py",
   "mimetype": "text/x-python",
   "name": "python",
   "nbconvert_exporter": "python",
   "pygments_lexer": "ipython3",
   "version": "3.8.5"
  }
 },
 "nbformat": 4,
 "nbformat_minor": 1
}
